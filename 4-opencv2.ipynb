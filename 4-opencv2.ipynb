{
 "cells": [
  {
   "cell_type": "code",
   "execution_count": 1,
   "source": [
    "import cv2\r\n",
    "\r\n",
    "img = cv2.imread('./test2.jpg')\r\n",
    "\r\n",
    "cv2.imshow('Untitled', img)\r\n",
    "\r\n",
    "cv2.waitKey()"
   ],
   "outputs": [],
   "metadata": {}
  }
 ],
 "metadata": {
  "orig_nbformat": 4,
  "language_info": {
   "name": "python",
   "version": "3.6.6",
   "mimetype": "text/x-python",
   "codemirror_mode": {
    "name": "ipython",
    "version": 3
   },
   "pygments_lexer": "ipython3",
   "nbconvert_exporter": "python",
   "file_extension": ".py"
  },
  "kernelspec": {
   "name": "python3",
   "display_name": "Python 3.6.6 64-bit ('python-cvcourse': conda)"
  },
  "interpreter": {
   "hash": "68a54b07e326c33444fd04cd0da3b2b23ede679bebfc6417972aedf47c665deb"
  }
 },
 "nbformat": 4,
 "nbformat_minor": 2
}