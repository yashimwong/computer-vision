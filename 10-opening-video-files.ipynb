{
 "cells": [
  {
   "cell_type": "code",
   "execution_count": 1,
   "source": [
    "import cv2\r\n",
    "import time\r\n",
    "\r\n",
    "cap = cv2.VideoCapture('video/sawit.mp4')\r\n",
    "\r\n",
    "if cap.isOpened() == False:\r\n",
    "    print('Error: File not found!')\r\n",
    "\r\n",
    "while cap.isOpened():\r\n",
    "    ret, frame = cap.read()\r\n",
    "\r\n",
    "    if ret == True:\r\n",
    "        time.sleep(1/60)\r\n",
    "        cv2.imshow('Video Stream', frame)\r\n",
    "\r\n",
    "        if cv2.waitKey(1) & 0xFF == ord('q'):\r\n",
    "            break\r\n",
    "    \r\n",
    "    else:\r\n",
    "        break\r\n",
    "\r\n",
    "cap.release()\r\n",
    "cv2.destroyAllWindows()"
   ],
   "outputs": [],
   "metadata": {}
  },
  {
   "cell_type": "code",
   "execution_count": null,
   "source": [],
   "outputs": [],
   "metadata": {}
  }
 ],
 "metadata": {
  "orig_nbformat": 4,
  "language_info": {
   "name": "python",
   "version": "3.6.6",
   "mimetype": "text/x-python",
   "codemirror_mode": {
    "name": "ipython",
    "version": 3
   },
   "pygments_lexer": "ipython3",
   "nbconvert_exporter": "python",
   "file_extension": ".py"
  },
  "kernelspec": {
   "name": "python3",
   "display_name": "Python 3.6.6 64-bit ('python-cvcourse': conda)"
  },
  "interpreter": {
   "hash": "68a54b07e326c33444fd04cd0da3b2b23ede679bebfc6417972aedf47c665deb"
  }
 },
 "nbformat": 4,
 "nbformat_minor": 2
}